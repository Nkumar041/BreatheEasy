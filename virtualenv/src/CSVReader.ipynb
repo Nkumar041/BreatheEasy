{
 "cells": [
  {
   "cell_type": "code",
   "execution_count": null,
   "metadata": {},
   "outputs": [
    {
     "ename": "",
     "evalue": "",
     "output_type": "error",
     "traceback": [
      "\u001b[1;31mRunning cells with 'Python 3.11.6 ('venv': venv)' requires ipykernel package.\n",
      "\u001b[1;31mRun the following command to install 'ipykernel' into the Python environment. \n",
      "\u001b[1;31mCommand: '/Users/nkumar/Desktop/BreatheEasy/venv/bin/python -m pip install ipykernel -U --force-reinstall'"
     ]
    }
   ],
   "source": [
    "# import statements\n",
    "import pandas as pd\n",
    "from datetime import time\n",
    "import numpy as np"
   ]
  },
  {
   "cell_type": "code",
   "execution_count": null,
   "metadata": {},
   "outputs": [
    {
     "ename": "",
     "evalue": "",
     "output_type": "error",
     "traceback": [
      "\u001b[1;31mRunning cells with 'Python 3.11.6 ('venv': venv)' requires ipykernel package.\n",
      "\u001b[1;31mRun the following command to install 'ipykernel' into the Python environment. \n",
      "\u001b[1;31mCommand: '/Users/nkumar/Desktop/BreatheEasy/venv/bin/python -m pip install ipykernel -U --force-reinstall'"
     ]
    }
   ],
   "source": [
    "# defining data for each csv file\n",
    "patient_info=pd.read_csv('AsthmaFiles/patient_info.csv')\n",
    "smartwatch1=pd.read_csv('AsthmaFiles/smartwatch1.csv')\n",
    "smartwatch2=pd.read_csv('AsthmaFiles/smartwatch2.csv')\n",
    "smartwatch3=pd.read_csv('AsthmaFiles/smartwatch3.csv')"
   ]
  },
  {
   "cell_type": "code",
   "execution_count": null,
   "metadata": {},
   "outputs": [
    {
     "ename": "",
     "evalue": "",
     "output_type": "error",
     "traceback": [
      "\u001b[1;31mRunning cells with 'Python 3.11.6 ('venv': venv)' requires ipykernel package.\n",
      "\u001b[1;31mRun the following command to install 'ipykernel' into the Python environment. \n",
      "\u001b[1;31mCommand: '/Users/nkumar/Desktop/BreatheEasy/venv/bin/python -m pip install ipykernel -U --force-reinstall'"
     ]
    }
   ],
   "source": []
  },
  {
   "cell_type": "code",
   "execution_count": null,
   "metadata": {},
   "outputs": [
    {
     "ename": "",
     "evalue": "",
     "output_type": "error",
     "traceback": [
      "\u001b[1;31mRunning cells with 'Python 3.11.6 ('venv': venv)' requires ipykernel package.\n",
      "\u001b[1;31mRun the following command to install 'ipykernel' into the Python environment. \n",
      "\u001b[1;31mCommand: '/Users/nkumar/Desktop/BreatheEasy/venv/bin/python -m pip install ipykernel -U --force-reinstall'"
     ]
    }
   ],
   "source": [
    "#holds the list of user keys\n",
    "list_of_user_keys=[]\n",
    "#Cleaning data by removing patients with insignificant data\n",
    "for x in patient_info[[\"user_key\"]+list(patient_info)[-10:-2]].iterrows():\n",
    "    if x[1][\"pef_end_date\"] - x[1][\"pef_start_date\"] >= 50 and x[1][\"miband_end_date\"]!=\"NaN\":\n",
    "        # if user fits significant data criteria, add user key to list\n",
    "        list_of_user_keys.append(x[1][\"user_key\"])\n",
    "list_of_user_keys"
   ]
  },
  {
   "cell_type": "code",
   "execution_count": null,
   "metadata": {},
   "outputs": [
    {
     "ename": "",
     "evalue": "",
     "output_type": "error",
     "traceback": [
      "\u001b[1;31mRunning cells with 'Python 3.11.6 ('venv': venv)' requires ipykernel package.\n",
      "\u001b[1;31mRun the following command to install 'ipykernel' into the Python environment. \n",
      "\u001b[1;31mCommand: '/Users/nkumar/Desktop/BreatheEasy/venv/bin/python -m pip install ipykernel -U --force-reinstall'"
     ]
    }
   ],
   "source": [
    "#Gets peakflow data related to user key\n",
    "def get_peakflow_data(user_key):\n",
    "    peakflow_data = pd.read_csv(\"AsthmaFiles/peakflow.csv\")\n",
    "    peakflow_data = peakflow_data[peakflow_data[\"user_key\"]==user_key]\n",
    "    peakflow_data = peakflow_data[[\"date\",\"hour\",\"pef_max\"]]\n",
    "    return peakflow_data\n"
   ]
  },
  {
   "cell_type": "code",
   "execution_count": null,
   "metadata": {},
   "outputs": [
    {
     "ename": "",
     "evalue": "",
     "output_type": "error",
     "traceback": [
      "\u001b[1;31mRunning cells with 'Python 3.11.6 ('venv': venv)' requires ipykernel package.\n",
      "\u001b[1;31mRun the following command to install 'ipykernel' into the Python environment. \n",
      "\u001b[1;31mCommand: '/Users/nkumar/Desktop/BreatheEasy/venv/bin/python -m pip install ipykernel -U --force-reinstall'"
     ]
    }
   ],
   "source": [
    "#Gets Enviornmental data related to user key and dates their peakflow was recorded\n",
    "def pair_weather(id,dates):\n",
    "    weather = pd.read_csv(\"AsthmaFiles/environment.csv\")\n",
    "    for_id = weather.loc[weather['user_key'] == id]\n",
    "    weather = for_id.loc[for_id['date'].isin(dates)]\n",
    "\n",
    "    return weather"
   ]
  },
  {
   "cell_type": "code",
   "execution_count": null,
   "metadata": {},
   "outputs": [
    {
     "ename": "",
     "evalue": "",
     "output_type": "error",
     "traceback": [
      "\u001b[1;31mRunning cells with 'Python 3.11.6 ('venv': venv)' requires ipykernel package.\n",
      "\u001b[1;31mRun the following command to install 'ipykernel' into the Python environment. \n",
      "\u001b[1;31mCommand: '/Users/nkumar/Desktop/BreatheEasy/venv/bin/python -m pip install ipykernel -U --force-reinstall'"
     ]
    }
   ],
   "source": []
  },
  {
   "cell_type": "code",
   "execution_count": null,
   "metadata": {},
   "outputs": [
    {
     "ename": "",
     "evalue": "",
     "output_type": "error",
     "traceback": [
      "\u001b[1;31mRunning cells with 'Python 3.11.6 ('venv': venv)' requires ipykernel package.\n",
      "\u001b[1;31mRun the following command to install 'ipykernel' into the Python environment. \n",
      "\u001b[1;31mCommand: '/Users/nkumar/Desktop/BreatheEasy/venv/bin/python -m pip install ipykernel -U --force-reinstall'"
     ]
    }
   ],
   "source": [
    "#try_catch to ensure no index errors crash the program and when they did a default value will be returned\n",
    "def try_catch(row,default,weather,x):\n",
    "    try:\n",
    "        return weather.loc[weather['date'] == row[\"date\"]].iloc[0][x]\n",
    "    except IndexError:\n",
    "        return default"
   ]
  },
  {
   "cell_type": "code",
   "execution_count": null,
   "metadata": {},
   "outputs": [
    {
     "ename": "",
     "evalue": "",
     "output_type": "error",
     "traceback": [
      "\u001b[1;31mRunning cells with 'Python 3.11.6 ('venv': venv)' requires ipykernel package.\n",
      "\u001b[1;31mRun the following command to install 'ipykernel' into the Python environment. \n",
      "\u001b[1;31mCommand: '/Users/nkumar/Desktop/BreatheEasy/venv/bin/python -m pip install ipykernel -U --force-reinstall'"
     ]
    }
   ],
   "source": [
    "#sepereates data for each user key among the 3 smartwatch files (sorting through 2.5 million datapoints is why it takes a while)\n",
    "def seperate_for_key(user_key,smartwatch1,smartwatch2,smartwatch3):\n",
    "    seperate_for_key1 = smartwatch1.loc[smartwatch1[\"user_key\"]==user_key][[\"date\",\"time\",\"hr\"]]\n",
    "    seperate_for_key2 = smartwatch2.loc[smartwatch2[\"user_key\"]==user_key][[\"date\",\"time\",\"hr\"]]\n",
    "    seperate_for_key3 = smartwatch3.loc[smartwatch3[\"user_key\"]==user_key][[\"date\",\"time\",\"hr\"]]\n",
    "    frames = [seperate_for_key1, seperate_for_key2, seperate_for_key3]\n",
    "    return pd.concat(frames)\n",
    "\n",
    "#Parses through data for specific date given\n",
    "def seperate_for_date(date,seperate_for_key):\n",
    "    return seperate_for_key.loc[seperate_for_key[\"date\"]==date][[\"time\",\"hr\"]]\n",
    "\n",
    "#parse through data for specific time given\n",
    "def seperate_for_time(time,seperate_for_date):\n",
    "    if len(str(time)) == 1:\n",
    "        time = \"0\" + str(time)\n",
    "    return seperate_for_date.loc[seperate_for_date[\"time\"].str.startswith(str(time))][\"hr\"].max()\n",
    "\n",
    "#lambda method to be used in apply method that will set the value of rows in the peakflow dataframe based on date and time ranges\n",
    "def lambda_method(row,key,sm1,sm2,sm3):\n",
    "    sk = seperate_for_key(key,sm1,sm2,sm3)\n",
    "    sd = seperate_for_date(row[\"date\"],sk)\n",
    "    return seperate_for_time(row[\"hour\"],sd)\n",
    "\n"
   ]
  },
  {
   "cell_type": "code",
   "execution_count": null,
   "metadata": {},
   "outputs": [
    {
     "ename": "",
     "evalue": "",
     "output_type": "error",
     "traceback": [
      "\u001b[1;31mRunning cells with 'Python 3.11.6 ('venv': venv)' requires ipykernel package.\n",
      "\u001b[1;31mRun the following command to install 'ipykernel' into the Python environment. \n",
      "\u001b[1;31mCommand: '/Users/nkumar/Desktop/BreatheEasy/venv/bin/python -m pip install ipykernel -U --force-reinstall'"
     ]
    }
   ],
   "source": [
    "# default value is set to NA or empty in other words\n",
    "default = \"NA\"\n",
    "# traverse through all viable users\n",
    "for i in list_of_user_keys:\n",
    "    # gets peak flow data for user\n",
    "    peak_flow_data = get_peakflow_data(i)\n",
    "    # pairs weather data for user based on dates peak flow was recorded\n",
    "    weather = pair_weather(i,peak_flow_data[\"date\"])\n",
    "    # adds weather data to peak flow data\n",
    "    for x in list(weather.columns):\n",
    "        #skips repeating columns\n",
    "        if x not in peak_flow_data.columns:\n",
    "            # appends rows to peak flow data\n",
    "            peak_flow_data[x] = peak_flow_data.apply(lambda row: try_catch(row,default,weather,x), axis = 1)\n",
    "    # adds heart rate data to peak flow data\n",
    "    peak_flow_data[\"hr\"] = peak_flow_data.apply(lambda row: lambda_method(row,i,smartwatch1,smartwatch2,smartwatch3), axis = 1)\n",
    "    # saves data to csv file according to user key\n",
    "    peak_flow_data.to_csv(f\"AsthmaFiles/{int(i)}.csv\",index=False)"
   ]
  },
  {
   "cell_type": "code",
   "execution_count": null,
   "metadata": {},
   "outputs": [
    {
     "ename": "",
     "evalue": "",
     "output_type": "error",
     "traceback": [
      "\u001b[1;31mRunning cells with 'Python 3.11.6 ('venv': venv)' requires ipykernel package.\n",
      "\u001b[1;31mRun the following command to install 'ipykernel' into the Python environment. \n",
      "\u001b[1;31mCommand: '/Users/nkumar/Desktop/BreatheEasy/venv/bin/python -m pip install ipykernel -U --force-reinstall'"
     ]
    }
   ],
   "source": [
    "# cleans data by removing rows with NaN values\n",
    "def clean_dataset(df):\n",
    "    assert isinstance(df, pd.DataFrame), \"df needs to be a pd.DataFrame\"\n",
    "    df.dropna(inplace=True)\n",
    "    indices_to_keep = ~df.isin([np.nan, np.inf, -np.inf]).any(axis=1)\n",
    "    return df[indices_to_keep].astype(np.float64)\n",
    "\n",
    "# reads all csv files and merges them into one to parse through\n",
    "def read_all_and_merge():\n",
    "    x = pd.DataFrame()\n",
    "    for i in list_of_user_keys:\n",
    "        user_info= pd.read_csv(f\"AsthmaFiles/patient_info.csv\")\n",
    "        dataset = pd.read_csv(f\"AsthmaFiles/{int(i)}.csv\")\n",
    "        dataset = dataset.drop([\"weed_pollen\",\"tree_pollen\",\"grass_pollen\"],axis=1)\n",
    "        dataset = clean_dataset(dataset)\n",
    "        ex_for_user = user_info.loc[user_info[\"user_key\"]==i][\"max_pef_expected\"].iloc[0]\n",
    "        max_for_user = dataset[\"pef_max\"].max()\n",
    "        dataset[\"pef_max\"] = dataset[\"pef_max\"].apply(lambda x: x/int(ex_for_user))\n",
    "        dataset = dataset.drop([\"date\",\"user_key\",\"no\"],axis=1)\n",
    "        x = pd.concat([x,dataset])\n",
    "\n",
    "    return x\n",
    "\n",
    "# saves merged data to csv file\n",
    "x = read_all_and_merge()\n",
    "\n",
    "# Function to remove rows with outliers in a specific column\n",
    "def remove_outliers(df, column_name):\n",
    "    Q1 = df[column_name].quantile(0.25)\n",
    "    Q3 = df[column_name].quantile(0.75)\n",
    "    IQR = Q3 - Q1\n",
    "    lower_bound = Q1 - 3.7 * IQR\n",
    "    upper_bound = Q3 + 3.7 * IQR\n",
    "\n",
    "    filtered_df = df[(df[column_name] >= lower_bound) & (df[column_name] <= upper_bound)]\n",
    "    return filtered_df\n",
    "\n",
    "# x = remove_outliers(x, 'temperature')\n",
    "# x = remove_outliers(x, 'temperature_min')\n",
    "# x = remove_outliers(x, 'temperature_max')\n",
    "# x = remove_outliers(x, 'pressure')\n",
    "x = remove_outliers(x, 'humidity')\n",
    "# x = remove_outliers(x, 'wind_speed')\n",
    "# x = remove_outliers(x, 'wind_deg')\n",
    "# x = remove_outliers(x, 'aqi')\n",
    "# x = remove_outliers(x, 'co')\n",
    "# x = remove_outliers(x, 'no2')\n",
    "# x = remove_outliers(x, 'o3')\n",
    "x = remove_outliers(x, 'so2')\n",
    "# x = remove_outliers(x, 'pm2_5')\n",
    "# x = remove_outliers(x, 'pm10')\n",
    "# x = remove_outliers(x, 'nh3')\n",
    "# x = remove_outliers(x, 'hr')\n",
    "\n",
    "x.to_csv(\"AsthmaFiles/merged.csv\",index=False)\n",
    "y = x[\"pef_max\"]\n",
    "x = x.drop([\"pef_max\"],axis=1)\n",
    "x\n"
   ]
  },
  {
   "cell_type": "code",
   "execution_count": null,
   "metadata": {},
   "outputs": [
    {
     "ename": "",
     "evalue": "",
     "output_type": "error",
     "traceback": [
      "\u001b[1;31mRunning cells with 'Python 3.11.6 ('venv': venv)' requires ipykernel package.\n",
      "\u001b[1;31mRun the following command to install 'ipykernel' into the Python environment. \n",
      "\u001b[1;31mCommand: '/Users/nkumar/Desktop/BreatheEasy/venv/bin/python -m pip install ipykernel -U --force-reinstall'"
     ]
    }
   ],
   "source": [
    "from sklearn.model_selection import train_test_split\n",
    "from sklearn.linear_model import LinearRegression\n",
    "x_train=x_test=y_test=y_train=y_pred=0\n",
    "count = 0\n",
    "r2sum=0\n",
    "maesum=0\n",
    "msesum=0\n",
    "rmsesum=0\n",
    "for i in range(0,1000):\n",
    "    x_train, x_test, y_train, y_test = train_test_split(x,y, test_size=0.25, random_state=i)\n",
    "    model = LinearRegression()\n",
    "    model.fit(x_train,y_train)\n",
    "    y_pred = model.predict(x_test)\n",
    "    from sklearn.metrics import mean_absolute_error, mean_squared_error, r2_score\n",
    "\n",
    "    # Assuming you have y_pred and y_test as NumPy arrays or Pandas Series\n",
    "    mae = mean_absolute_error(y_test, y_pred)\n",
    "    mse = mean_squared_error(y_test, y_pred)\n",
    "    rmse = np.sqrt(mse)\n",
    "    r2 = r2_score(y_test, y_pred)\n",
    "\n",
    "    # print(f'Mean Absolute Error: {mae}')\n",
    "    # print(f'Mean Squared Error: {mse}')\n",
    "    # print(f'Root Mean Squared Error: {rmse}')\n",
    "    if r2 > .4:\n",
    "        count+=1\n",
    "    r2sum+=r2\n",
    "    maesum+=mae\n",
    "    msesum+=mse\n",
    "    rmsesum+=rmse\n",
    "    # print(f'R-squared (R^2) Score: {r2}')\n",
    "print(count)\n",
    "print(r2sum/1000)\n",
    "print(maesum/1000)\n",
    "print(msesum/1000)\n",
    "print(rmsesum/1000)\n",
    "\n"
   ]
  },
  {
   "cell_type": "code",
   "execution_count": null,
   "metadata": {},
   "outputs": [
    {
     "ename": "",
     "evalue": "",
     "output_type": "error",
     "traceback": [
      "\u001b[1;31mRunning cells with 'Python 3.11.6 ('venv': venv)' requires ipykernel package.\n",
      "\u001b[1;31mRun the following command to install 'ipykernel' into the Python environment. \n",
      "\u001b[1;31mCommand: '/Users/nkumar/Desktop/BreatheEasy/venv/bin/python -m pip install ipykernel -U --force-reinstall'"
     ]
    }
   ],
   "source": [
    "x_test"
   ]
  },
  {
   "cell_type": "code",
   "execution_count": null,
   "metadata": {},
   "outputs": [
    {
     "ename": "",
     "evalue": "",
     "output_type": "error",
     "traceback": [
      "\u001b[1;31mRunning cells with 'Python 3.11.6 ('venv': venv)' requires ipykernel package.\n",
      "\u001b[1;31mRun the following command to install 'ipykernel' into the Python environment. \n",
      "\u001b[1;31mCommand: '/Users/nkumar/Desktop/BreatheEasy/venv/bin/python -m pip install ipykernel -U --force-reinstall'"
     ]
    }
   ],
   "source": [
    "# from sklearn.metrics import mean_absolute_error, mean_squared_error, r2_score\n",
    "\n",
    "# # Assuming you have y_pred and y_test as NumPy arrays or Pandas Series\n",
    "# mae = mean_absolute_error(y_test, y_pred)\n",
    "# mse = mean_squared_error(y_test, y_pred)\n",
    "# rmse = np.sqrt(mse)\n",
    "# r2 = r2_score(y_test, y_pred)\n",
    "\n",
    "# print(f'Mean Absolute Error: {mae}')\n",
    "# print(f'Mean Squared Error: {mse}')\n",
    "# print(f'Root Mean Squared Error: {rmse}')\n",
    "# print(f'R-squared (R^2) Score: {r2}')\n",
    "\n"
   ]
  },
  {
   "cell_type": "code",
   "execution_count": null,
   "metadata": {},
   "outputs": [
    {
     "ename": "",
     "evalue": "",
     "output_type": "error",
     "traceback": [
      "\u001b[1;31mRunning cells with 'Python 3.11.6 ('venv': venv)' requires ipykernel package.\n",
      "\u001b[1;31mRun the following command to install 'ipykernel' into the Python environment. \n",
      "\u001b[1;31mCommand: '/Users/nkumar/Desktop/BreatheEasy/venv/bin/python -m pip install ipykernel -U --force-reinstall'"
     ]
    }
   ],
   "source": [
    "# Gives R^2 score of x_train vs y_train\n",
    "model.score(x_train,y_train)\n",
    "\n",
    "import joblib\n",
    "joblib.dump(model, 'asthma_model.joblib')"
   ]
  }
 ],
 "metadata": {
  "kernelspec": {
   "display_name": "Python 3.12.0 ('venv': venv)",
   "language": "python",
   "name": "python3"
  },
  "language_info": {
   "codemirror_mode": {
    "name": "ipython",
    "version": 3
   },
   "file_extension": ".py",
   "mimetype": "text/x-python",
   "name": "python",
   "nbconvert_exporter": "python",
   "pygments_lexer": "ipython3",
   "version": "3.11.6"
  },
  "vscode": {
   "interpreter": {
    "hash": "576c6aa2841c82843d6e880caefdc515a87916f88d2648ee3d0b428245c15379"
   }
  }
 },
 "nbformat": 4,
 "nbformat_minor": 2
}
